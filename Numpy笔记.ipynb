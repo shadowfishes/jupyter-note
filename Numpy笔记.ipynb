{
 "cells": [
  {
   "cell_type": "markdown",
   "metadata": {},
   "source": [
    "# Python Numpy库使用笔记  \n",
    "## Numpy特性  \n",
    "1. numpy采用c语言编写算法库，使用连续内存存储，内置函数运算速度较Python快  \n",
    "2. import numpy as np为推荐导入方式，不推荐全部导入，避免命名冲突  \n",
    "3. 可以进行快速矩阵运算，而不需要python循环\n",
    "4. 提供对硬盘数据进行读写的工具，并对内存映射文件进行操作"
   ]
  },
  {
   "cell_type": "markdown",
   "metadata": {},
   "source": [
    "## Ndarray多维数组\n",
    "Numpy的核心对象，**同类（每一个元素是相同类型）**数据容器。\n",
    "1. 数组shape和dtype属性分别表示数组的维度信息和元素数据类型\n",
    "```\n",
    "data.shape\n",
    "data.dtype\n",
    "```  \n",
    "2. 生成Ndarray  \n",
    "    1. 使用array/asarry函数\n",
    "    array接受一个序列（如列表，元组等），返回一个数组。类型和维度会自动识别（未指定shape，dtype的情况下）。asaaray在符合shape和dtype的情况下，如果输入为一个ndaary那么不会复制它，直接返回数组本身，而array会产生一个copy。\n",
    "    2. ones/ones_like, zeros/zeros_like, empty/empty_like, full/full_like, eye, identity函数\n",
    "    生成某些特殊类型的数组，如ones生成指定形状和数据类型的数组，而ones_like生成所谓数组一样形状的全1数组。   "
   ]
  },
  {
   "cell_type": "code",
   "execution_count": 13,
   "metadata": {},
   "outputs": [
    {
     "name": "stdout",
     "output_type": "stream",
     "text": [
      "(10,) int32\n",
      "[[0 1 2 3 4 5 6 7 8 9]]\n",
      "[[0. 0. 0.]\n",
      " [0. 0. 0.]]\n",
      "[[1. 1. 1.]\n",
      " [1. 1. 1.]]\n",
      "[[1. 0. 0. 0. 0.]\n",
      " [0. 1. 0. 0. 0.]]\n",
      "[[0. 1. 0. 0. 0.]\n",
      " [0. 0. 1. 0. 0.]]\n",
      "[[1. 0. 0.]\n",
      " [0. 1. 0.]\n",
      " [0. 0. 1.]]\n"
     ]
    }
   ],
   "source": [
    "import numpy as np\n",
    "\n",
    "arr1 = np.arange(10)\n",
    "print(arr1.shape, arr1.dtype)\n",
    "arr2 = np.array(arr1, ndmin=2)\n",
    "print(arr2)\n",
    "arr3 = np.zeros((2,3))\n",
    "arr4 = np.ones_like(arr3)\n",
    "print(arr3, arr4, sep='\\n')\n",
    "print(np.eye(2,5), np.eye(2,5, k=1), sep='\\n')\n",
    "print(np.identity(3))\n"
   ]
  },
  {
   "cell_type": "markdown",
   "metadata": {},
   "source": [
    "3. ndarray的数据类型dtype  \n",
    "使用dtype可以查看数组的数据类型，而方法asdtype则可以修改数组的数据类型，当不能转换时会引发ValueError异常，且使用asdtype会生成一个新的数组。dtype可以使用类型np.float32, np.int8等也可以使用类型代码，'i1'代表int8等等。  \n",
    "4. 数据的算术  \n",
    "在任何形状相同的数组之间的算术运算，都是逐元素进行的。而标量运算是对每个元素进行运算。  \n",
    "**在不同形状的数组之间进行运算，要遵循numpy的传播规则，需要特别注意**"
   ]
  },
  {
   "cell_type": "code",
   "execution_count": 20,
   "metadata": {},
   "outputs": [
    {
     "name": "stdout",
     "output_type": "stream",
     "text": [
      "[[ 1  4]\n",
      " [ 9 16]]\n",
      "[[2 4]\n",
      " [6 8]]\n"
     ]
    }
   ],
   "source": [
    "arr1 = np.array([[1,2],[3,4]])\n",
    "print(arr1*arr1, arr1*2, sep= '\\n')"
   ]
  },
  {
   "cell_type": "markdown",
   "metadata": {},
   "source": [
    "5. 数组的切片和索引  \n",
    "    1. 基础索引和切片  \n",
    "    对于1-d数组，索引和切片类似python的列表。但是要注意这种**切片和索引下返回的都是原数组的视图**，即任何修改都会反应在原数组上。对于更高维度的数组，每一个索引代表的不再是一个元素，而是一个降低了维度的数组。切片的规则和索引相同。但是切片所得要注意是获得了一维数组还是获得了某一个维为1的多维数组(可以理解为索引会降维，而切片不会降维)。"
   ]
  },
  {
   "cell_type": "code",
   "execution_count": 25,
   "metadata": {},
   "outputs": [
    {
     "name": "stdout",
     "output_type": "stream",
     "text": [
      "[[7 8 9]]\n",
      "[[7 8]]\n",
      "(2,) (1, 2)\n"
     ]
    }
   ],
   "source": [
    "arr0 = np.array([[[1,2,3],[4,5,6],[7,8,9]]])\n",
    "print(arr0[:,2], arr0[:,2,:2],sep=\"\\n\")\n",
    "arr = np.array([[1,2],[3,4]])\n",
    "print(arr[1,:].shape, arr[1:,:].shape)"
   ]
  }
 ],
 "metadata": {
  "kernelspec": {
   "display_name": "Python 3",
   "language": "python",
   "name": "python3"
  },
  "language_info": {
   "codemirror_mode": {
    "name": "ipython",
    "version": 3
   },
   "file_extension": ".py",
   "mimetype": "text/x-python",
   "name": "python",
   "nbconvert_exporter": "python",
   "pygments_lexer": "ipython3",
   "version": "3.7.0"
  }
 },
 "nbformat": 4,
 "nbformat_minor": 2
}

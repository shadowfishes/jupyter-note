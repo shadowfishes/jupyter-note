{
 "cells": [
  {
   "cell_type": "markdown",
   "metadata": {},
   "source": [
    "# Python元类\n",
    "我看过一个非常形象的解释python元类的说法，这里借鉴一下。中国古语有“道生一，一生二，二生三，三生万物”，在Python中type就是道，也是整个python体系的根本，一就是元类从type而来（也可以理解为就是type类，而其他所有的内置类都是type实例化产生的），由它产生出各种类对象（二），类对象实例化生成各种实例（三），然后三生万物。这是什么意思，怎么理解，请继续往下看。\n",
    "- Python中一切皆对象，我们平常使用的class类也是一个（类）对象，而创建这个对象的类就是元类；\n",
    "- 按照惯例，为方便下列的说明，在下文中我们将类命名为类或者类对象，类的实例命名为实例对象，据此对他们进行区分；\n",
    "***\n",
    "## 1. 古老而强大的type函数"
   ]
  },
  {
   "cell_type": "code",
   "execution_count": 12,
   "metadata": {},
   "outputs": [
    {
     "name": "stdout",
     "output_type": "stream",
     "text": [
      "<class 'function'> <class 'str'> <class 'int'>\n"
     ]
    }
   ],
   "source": [
    "def test():\n",
    "    pass\n",
    "a = 'abcd'\n",
    "n = 100\n",
    "print(type(test),type(a),type(n))"
   ]
  },
  {
   "cell_type": "markdown",
   "metadata": {},
   "source": [
    "从上例代码可以看到type函数接受一个对象，并且返回这个对象的类型，这只是type的其中一个用法，除此之外type函数还可以创建一个类对象："
   ]
  },
  {
   "cell_type": "code",
   "execution_count": 15,
   "metadata": {},
   "outputs": [
    {
     "name": "stdout",
     "output_type": "stream",
     "text": [
      "<class 'type'> <class 'type'>\n",
      "<class '__main__.A'> <class '__main__.B'>\n"
     ]
    }
   ],
   "source": [
    "class A:\n",
    "    pass\n",
    "B = type(\"B\",(object,),{})\n",
    "\n",
    "print(type(B), type(A))\n",
    "\n",
    "b = B()\n",
    "a = A()\n",
    "\n",
    "print(type(a), type(b))"
   ]
  },
  {
   "cell_type": "markdown",
   "metadata": {},
   "source": [
    "定义一个类对象除了使用关键字class之外，使用type（name,bases,dict）函数也可以创建一个类对象。当解释器发现class关键字时，使用type函数创建类对象，再当前命名空间创建新的变量，并将其指向创建的类对象。type函数的参数name为类名； bases是一个元组，值为继承的父类；dict是一个字典，值为类的属性字典。更加具体的type用法这里不再详细解释。**这里需要区分下继承和实例化，继承是子类可以使用父类的资源，如python历史上的新式类继承自object类（3.X以后版本默认为新式类，2.5以后版本需要显示继承obejct），而实例化则是根据类的定义，生成一个新的实例。**"
   ]
  },
  {
   "cell_type": "code",
   "execution_count": 1,
   "metadata": {},
   "outputs": [
    {
     "name": "stdout",
     "output_type": "stream",
     "text": [
      "<class 'type'> <class 'type'>\n",
      "<class 'int'> <class 'type'>\n"
     ]
    }
   ],
   "source": [
    "class A:pass\n",
    "n = 100\n",
    "print(A.__class__, A.__class__.__class__)\n",
    "print(n.__class__, n.__class__.__class__)"
   ]
  },
  {
   "cell_type": "markdown",
   "metadata": {},
   "source": [
    "一个实例对象的__class__属性指向实例化它的类对象，而type的类对象还是type。无论是我们创建的类对象，还是python内置的数据类型（也是类对象），他们最终都从type而来。**故，type就是Python的“道”！**"
   ]
  },
  {
   "cell_type": "markdown",
   "metadata": {},
   "source": [
    "## 2. 理解元类的必备知识\n",
    "1. 对象实例化过程，python替我们做了什么？\n",
    "2. 魔方方法\\__new__, \\__init__, \\__call__的使用方法\n",
    "3. 类的继承顺序（MRO），如何查找meteclass的"
   ]
  },
  {
   "cell_type": "code",
   "execution_count": 9,
   "metadata": {},
   "outputs": [
    {
     "name": "stdout",
     "output_type": "stream",
     "text": [
      "******************************\n",
      "<class '__main__.Test'> () {}\n",
      "我是__new__函数\n",
      "<__main__.Test object at 0x03265A50> () {}\n",
      "我是__init__函数\n",
      "******************************\n",
      "有属性name\n"
     ]
    }
   ],
   "source": [
    "class Test(object):\n",
    "    def __new__(cls, *args, **kwargs):\n",
    "        print(cls, args, kwargs)\n",
    "        print(\"我是__new__函数\")\n",
    "        return super(Test,cls).__new__(cls, *args, **kwargs)\n",
    "\n",
    "    def __init__(cls, *args, **kwargs):\n",
    "        print(cls, args, kwargs)\n",
    "        print(\"我是__init__函数\")\n",
    "        cls.name = \"name\"\n",
    "print(\"*\"*30)\n",
    "t = Test()\n",
    "print(\"*\"*30)\n",
    "if hasattr(t, 'name'):\n",
    "    print(\"有属性name\")"
   ]
  },
  {
   "cell_type": "markdown",
   "metadata": {},
   "source": [
    "从分割线可以看出，当进行类定义时，\\__new__和\\__init__并没有调用，而是在执行实例化时自动进行调用。并且两个函数默认传入的参数cls并不相同。传入的是类对象，而init传入的是实例对象。这很好理解，new方法是创建一个实例对象（所以必须要返回一个对象），而init只是对其进行初始化（当new函数的返回值不为None时，执行完new函数自动调用），所以new时实例并不存在，只能传入类对象。"
   ]
  },
  {
   "cell_type": "markdown",
   "metadata": {},
   "source": [
    "### 3. 使用类的\\__new__方法实现单例模式："
   ]
  },
  {
   "cell_type": "code",
   "execution_count": 27,
   "metadata": {},
   "outputs": [
    {
     "name": "stdout",
     "output_type": "stream",
     "text": [
      "59332112 59332112 bob bob\n"
     ]
    },
    {
     "data": {
      "text/plain": [
       "True"
      ]
     },
     "execution_count": 27,
     "metadata": {},
     "output_type": "execute_result"
    }
   ],
   "source": [
    "class A:\n",
    "    def __new__(cls, *args, **kwargs):\n",
    "        if not hasattr(cls, '_A__instance'):\n",
    "            cls.__instance = super(A, cls).__new__(cls)\n",
    "        return cls.__instance\n",
    "    def __init__(self, name=\"None\"):\n",
    "        if not hasattr(self, 'name'):\n",
    "            self.name = name\n",
    "a = A('bob')\n",
    "b = A(\"alice\")\n",
    "print(id(a), id(b), a.name , b.name)\n",
    "hasattr(A,'_A__instance')"
   ]
  },
  {
   "cell_type": "markdown",
   "metadata": {},
   "source": [
    "使用new方法实现单例模式，就是在类里新增一个属性用来保存生成的实例对象，当再次实例化时直接返回已经生成的实例。**这里需要了解前文所说的，类的实例化过程才能理解。**"
   ]
  },
  {
   "cell_type": "markdown",
   "metadata": {},
   "source": [
    "### 4. 使用元类实现单例模式："
   ]
  },
  {
   "cell_type": "code",
   "execution_count": 13,
   "metadata": {},
   "outputs": [
    {
     "name": "stdout",
     "output_type": "stream",
     "text": [
      "<class '__main__.MetaA'> ('A', (), {'__module__': '__main__', '__qualname__': 'A', '__init__': <function A.__init__ at 0x02FF88E8>}) {}\n",
      "<class '__main__.A'> ('A', (), {'__module__': '__main__', '__qualname__': 'A', '__init__': <function A.__init__ at 0x02FF88E8>}) {}\n",
      "********************\n",
      "<class '__main__.A'> ('aa',) {} here\n",
      "<class '__main__.A'> ('bb',) {} here\n",
      "52880688 52880688 zzz zzz 52880688\n"
     ]
    }
   ],
   "source": [
    "class MetaA(type):\n",
    "    def __new__(cls, *args, **kwargs):\n",
    "        print(cls, args, kwargs)\n",
    "        return super().__new__(cls, *args, **kwargs)\n",
    "    def __init__(self, *args, **kwargs):\n",
    "        print(self, args, kwargs)\n",
    "        if not hasattr(self, '_instance'):\n",
    "            self._instance = None\n",
    "        super().__init__(self)\n",
    "    def __call__(self, *args, **kwargs):\n",
    "        print(self, args, kwargs, 'here')\n",
    "        if self._instance is None:\n",
    "            self._instance = self.__new__(self)\n",
    "        self._instance.__init__(*args, **kwargs)\n",
    "        return self._instance\n",
    "\n",
    "class A(metaclass=MetaA):\n",
    "    def __init__(self, name):\n",
    "        self.name = name\n",
    "    pass\n",
    "print(\"*\"*20)\n",
    "a = A('aa')\n",
    "b = A('bb')\n",
    "b.name = 'zzz'\n",
    "print(id(a), id(b), a.name , b.name, id(a._instance))\n"
   ]
  },
  {
   "cell_type": "markdown",
   "metadata": {},
   "source": [
    "元类的new和init方法在解释器执行到class A时就会调用，当类实例化时，由于元类实现了call方法，因此会执行元类的call方法来生成和初始化实例。元类的\\__call__方法会拦截类对象的\\__new__和\\__init__的方法。当执行a=A()时，可以看做是在调用A（参照类中实现了\\__call__时，实例是可调用的这一情况），而且\\__call__的优先级高于new和init。所以call方法最终需要返回一个对象，而且需要在call中对生成的实例进行初始化（即调用init方法）"
   ]
  },
  {
   "cell_type": "markdown",
   "metadata": {},
   "source": [
    "## 使用元类，要注意几个地方：\n",
    "- 自定义的元类需要继承自type类\n",
    "- 自定义的元类里的\\__new__函数需要返回一个类对象\n",
    "- 需要使用metaclass参数指明类的元类是谁，这里有一个查找顺序：\n",
    " 1. 查找自身参数，有无metaclass \n",
    " 2. 查找继承树（MRO），是否有无metaclass\n",
    " 3. 查找模块，是否指定全局\\__metaclass__参数\n",
    " 4. 上述方法均未查询到，则使用内置的type元类来创建\n",
    "- 使用元类的自定义类，需要显式指定metaclass参数\n",
    "- 元类的new方法是改变类的结构（简单来讲就是类的属性字典），而init只是操作类对象的属性（增删等等）不改变结构\n",
    "***\n",
    "总的来说就是，一旦查找到类的metaclass属性(注意查找顺序)，那么会根据元类的new函数来创建类对象，随后调用元类的init函数进行初始化类对象。而类对象实例化使用的是自身的new和init函数，__有个例外：一旦元类实现了call方法，则会拦截类对象的实例化过程。__"
   ]
  }
 ],
 "metadata": {
  "kernelspec": {
   "display_name": "Python 3",
   "language": "python",
   "name": "python3"
  },
  "language_info": {
   "codemirror_mode": {
    "name": "ipython",
    "version": 3
   },
   "file_extension": ".py",
   "mimetype": "text/x-python",
   "name": "python",
   "nbconvert_exporter": "python",
   "pygments_lexer": "ipython3",
   "version": "3.7.0"
  }
 },
 "nbformat": 4,
 "nbformat_minor": 2
}

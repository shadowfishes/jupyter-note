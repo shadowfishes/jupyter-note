{
 "cells": [
  {
   "cell_type": "markdown",
   "metadata": {},
   "source": [
    "# Python元类\n",
    "- Python中一切皆对象，我们平常使用的class类也是一个（类）对象，而创建这个对象的类就是元类；\n",
    "- 为方便下列的说明，在下文中我们将类命名为类对象，类的实例命名实例对象据此进行区分；\n",
    "## 古老而强大的Type函数"
   ]
  },
  {
   "cell_type": "code",
   "execution_count": 12,
   "metadata": {},
   "outputs": [
    {
     "name": "stdout",
     "output_type": "stream",
     "text": [
      "<class 'function'> <class 'str'> <class 'int'>\n"
     ]
    }
   ],
   "source": [
    "def test():\n",
    "    pass\n",
    "a = 'abcd'\n",
    "n = 100\n",
    "print(type(test),type(a),type(n))"
   ]
  },
  {
   "cell_type": "markdown",
   "metadata": {},
   "source": [
    "从上例代码可以看到type函数接受一个对象，并且返回这个对象类型。除此之外type函数还可以创建一个类对象："
   ]
  },
  {
   "cell_type": "code",
   "execution_count": 15,
   "metadata": {},
   "outputs": [
    {
     "name": "stdout",
     "output_type": "stream",
     "text": [
      "<class 'type'> <class 'type'>\n",
      "<class '__main__.A'> <class '__main__.B'>\n"
     ]
    }
   ],
   "source": [
    "class A:\n",
    "    pass\n",
    "B = type(\"B\",(object,),{})\n",
    "\n",
    "print(type(B), type(A))\n",
    "\n",
    "b = B()\n",
    "a = A()\n",
    "\n",
    "print(type(a), type(b))"
   ]
  },
  {
   "cell_type": "markdown",
   "metadata": {},
   "source": [
    "定义一个类对象除了使用关键字class之外，使用type（name,bases,dict）函数也可以创建一个类对象。当解释器发现class关键字时，使用type函数创建类对象，再当面命名空间创建新的变量，并将其指向创建的类对象。type函数的参数name为类名； bases是一个元组，值为继承的父类；dict是一个字典，值为类的属性字典。更加具体的type用法这里不再详细解释。这里需要区分下继承和实例化，继承是可以使用父类的资源，如python历史上的新式类继承自object类（3.X以后版本默认为新式类，2.5以后版本需要显示继承obejct），而实例化则是根据类对象的定义，生成一个新的实例。\n",
    "- 我看过一个非常形象的解释python元类的说法，这里借鉴一下。中国古语有“道生一，一生二，二生三，三生万物”，在Python中type就是道，也是整个python体系的根本，一就是元类它从type而来（也可以理解为就是type类，而其他所有的内置类都是type实例化产生的），由它产生发各种类对象（二），类对象实例化生成各种实例（三），然后三生万物。"
   ]
  },
  {
   "cell_type": "code",
   "execution_count": 18,
   "metadata": {},
   "outputs": [
    {
     "name": "stdout",
     "output_type": "stream",
     "text": [
      "<class 'type'> <class 'type'>\n",
      "<class 'int'> <class 'type'>\n"
     ]
    }
   ],
   "source": [
    "class A:pass\n",
    "n = 100\n",
    "print(A.__class__, A.__class__.__class__)\n",
    "print(n.__class__, n.__class__.__class__)"
   ]
  },
  {
   "cell_type": "markdown",
   "metadata": {},
   "source": [
    "一个对象的__class__属性指向实例化它的类对象，而type的类对象还是type。无论是我们创建的类对象，还是python内置的数据类型（也是类对象），他们都有从type而来。"
   ]
  }
 ],
 "metadata": {
  "kernelspec": {
   "display_name": "Python 3",
   "language": "python",
   "name": "python3"
  },
  "language_info": {
   "codemirror_mode": {
    "name": "ipython",
    "version": 3
   },
   "file_extension": ".py",
   "mimetype": "text/x-python",
   "name": "python",
   "nbconvert_exporter": "python",
   "pygments_lexer": "ipython3",
   "version": "3.5.2"
  }
 },
 "nbformat": 4,
 "nbformat_minor": 2
}

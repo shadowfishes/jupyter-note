{
 "cells": [
  {
   "cell_type": "markdown",
   "metadata": {},
   "source": [
    "# 列表\n",
    "1. 列表的插入  \n",
    "  list.insert(index, value)在指定index位置新增元素，开销较append大  \n",
    "  list.append(value)在列表尾部新增元素\n",
    "2. 列表的删除  \n",
    "  list.pop(index)删除索引位置的元素  \n",
    "  list.remove(value)删除列表中第一个值为value的元素\n",
    "3. 列表的合并  \n",
    "  list1 + list2的方式，生成一个新的列表，开销较大  \n",
    "  list1.extend(list2)的方式，在原list1的基础上扩展list2，开销小\n",
    "4. 列表的排序  \n",
    "  list.sort(key)可以指定排序方式key，改变原列表顺序  \n",
    "  sorted(list[,key])返回一个排序后的新列表  \n",
    "5. 列表计数  \n",
    "  list.count(value)返回一个value的计数  \n",
    "6. enumerate，zip，reversed内置方法"
   ]
  },
  {
   "cell_type": "markdown",
   "metadata": {},
   "source": [
    "# 字典"
   ]
  },
  {
   "cell_type": "markdown",
   "metadata": {},
   "source": [
    "# 元组"
   ]
  },
  {
   "cell_type": "markdown",
   "metadata": {},
   "source": [
    "# 函数"
   ]
  },
  {
   "cell_type": "markdown",
   "metadata": {},
   "source": [
    "# itertools库  \n",
    "1. combinations(iterable, k)根据k（可以理解为个数），返回iterable序列的组合。相当于排列组合的Cnm，不考虑元素的顺序  \n",
    "2. permutations(iterable, k)功能类似combinations，只是要考虑元素的顺序，相当于Anm\n",
    "3. product(*iterable,repeat=1)可以看做是repeat个数的嵌套for循环，获得序列的笛卡尔乘积。  \n",
    "4. groupby(iterable[,keyfunc])根据每一个独立的key生成（key， sub-iterator)的元组,**如果是非有序序列，那么结果会不确定**   \n"
   ]
  },
  {
   "cell_type": "code",
   "execution_count": 1,
   "metadata": {},
   "outputs": [
    {
     "name": "stdout",
     "output_type": "stream",
     "text": [
      "[1, 2, 3, 4]\n",
      "[(1, 2), (1, 3), (1, 4), (2, 3), (2, 4), (3, 4)]\n",
      "[(1, 2), (1, 3), (1, 4), (2, 1), (2, 3), (2, 4), (3, 1), (3, 2), (3, 4), (4, 1), (4, 2), (4, 3)]\n",
      "[(1, 1), (1, 2), (1, 3), (1, 4), (2, 1), (2, 2), (2, 3), (2, 4), (3, 1), (3, 2), (3, 3), (3, 4), (4, 1), (4, 2), (4, 3), (4, 4)]\n",
      "[1, 3, 1, 2, 3, 4]\n",
      "1:[1]\n",
      "3:[3]\n",
      "1:[1]\n",
      "2:[2]\n",
      "3:[3]\n",
      "4:[4]\n",
      "[1, 1, 2, 3, 3, 4]\n",
      "1:[1, 1]\n",
      "2:[2]\n",
      "3:[3, 3]\n",
      "4:[4]\n"
     ]
    }
   ],
   "source": [
    "from itertools import combinations, permutations, product, groupby\n",
    "\n",
    "ls = list(range(1,5))\n",
    "print(ls)\n",
    "print(list(combinations(ls,2)))\n",
    "print(list(permutations(ls,2)))\n",
    "print(list(product(ls,repeat=2)))\n",
    "ls1 = [k for k in range(5) if k%2]\n",
    "ls1.extend(ls)\n",
    "\n",
    "print(ls1)\n",
    "for index, item in groupby(ls1):\n",
    "    print(index, list(item), sep=\":\")\n",
    "print(sorted(ls1))\n",
    "for index, item in groupby(sorted(ls1)):\n",
    "    print(index, list(item), sep=\":\")"
   ]
  },
  {
   "cell_type": "markdown",
   "metadata": {},
   "source": [
    "## Python socket编程相关  \n",
    "selectors和select库，可以实现高效IO异步编程。selectors的defaultselector返回一个对象，具有register和unregister方法，注册回调函数，返回值是一个selectorkey对象，具有fd,fileobj, data等属性，一般用于socket等编程。selectors.Defaultselector.select方法返回一个（key,event）二元组，其中key是selectorkey对象，event是注册的事件，比如EVENT_READ。\n",
    "HTTP 1.1版本connection默认是keep-alive，而1.0版本默认是closed  \n",
    "python bounded function. python当调用实例方法时,会自动将实例传递给函数的第一个参数:"
   ]
  },
  {
   "cell_type": "code",
   "execution_count": 2,
   "metadata": {},
   "outputs": [
    {
     "name": "stdout",
     "output_type": "stream",
     "text": [
      "<function func at 0x7f9be4434a60>\n",
      "<bound method func of <__main__.Foo object at 0x7f9be443abe0>>\n",
      "<function func at 0x7f9be4434a60>\n"
     ]
    }
   ],
   "source": [
    "class Foo(object):\n",
    "    pass\n",
    "     \n",
    "def func():\n",
    "    pass   \n",
    "         \n",
    "if __name__ == \"__main__\":\n",
    "    Foo.method = func\n",
    "    f = Foo()\n",
    "    print(Foo.method,f.method,func,sep=\"\\n\")"
   ]
  },
  {
   "cell_type": "markdown",
   "metadata": {},
   "source": [
    "## Python functools库中的partial  \n",
    "其中的patial本质上是一个装饰器  \n",
    "```\n",
    "def partial(func, *args, **kwargs):\n",
    "    def wrapper(*ex_args, **ex_kwargs):\n",
    "        print(args, ex_args, kwargs, ex_kwargs)\n",
    "        new_kwargs = kwargs.copy()\n",
    "        new_kwargs.update(ex_kwargs)\n",
    "        return func(*(args+ex_args), **new_kwargs)\n",
    "    return wrapper  \n",
    "```  \n",
    "用法就是先传入部分参数，后续调用在继续补全参数设置  \n"
   ]
  }
 ],
 "metadata": {
  "kernelspec": {
   "display_name": "Python 3",
   "language": "python",
   "name": "python3"
  },
  "language_info": {
   "codemirror_mode": {
    "name": "ipython",
    "version": 3
   },
   "file_extension": ".py",
   "mimetype": "text/x-python",
   "name": "python",
   "nbconvert_exporter": "python",
   "pygments_lexer": "ipython3",
   "version": "3.6.7"
  }
 },
 "nbformat": 4,
 "nbformat_minor": 2
}

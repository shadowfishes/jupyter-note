{
 "cells": [
  {
   "cell_type": "markdown",
   "metadata": {},
   "source": [
    "# Python元类\n",
    "- Python中一切皆对象，我们平常使用的class类也是一个（类）对象，而创建这个对象的类就是元类；\n",
    "- 为方便下列的说明，在下文中我们将类命名为类对象，类的实例命名实例对象据此进行区分；\n",
    "## 古老而强大的Type函数"
   ]
  },
  {
   "cell_type": "code",
   "execution_count": 12,
   "metadata": {},
   "outputs": [
    {
     "name": "stdout",
     "output_type": "stream",
     "text": [
      "<class 'function'> <class 'str'> <class 'int'>\n"
     ]
    }
   ],
   "source": [
    "def test():\n",
    "    pass\n",
    "a = 'abcd'\n",
    "n = 100\n",
    "print(type(test),type(a),type(n))"
   ]
  },
  {
   "cell_type": "markdown",
   "metadata": {},
   "source": [
    "从上例代码可以看到type函数接受一个对象，并且返回这个对象类型。除此之外type函数还可以创建一个类对象："
   ]
  },
  {
   "cell_type": "code",
   "execution_count": 15,
   "metadata": {},
   "outputs": [
    {
     "name": "stdout",
     "output_type": "stream",
     "text": [
      "<class 'type'> <class 'type'>\n",
      "<class '__main__.A'> <class '__main__.B'>\n"
     ]
    }
   ],
   "source": [
    "class A:\n",
    "    pass\n",
    "B = type(\"B\",(object,),{})\n",
    "\n",
    "print(type(B), type(A))\n",
    "\n",
    "b = B()\n",
    "a = A()\n",
    "\n",
    "print(type(a), type(b))"
   ]
  },
  {
   "cell_type": "markdown",
   "metadata": {},
   "source": [
    "定义一个类对象除了使用关键字class之外，使用type（name,bases,dict）函数也可以创建一个类对象。当解释器发现class关键字时，使用type函数创建类对象，再当前命名空间创建新的变量，并将其指向创建的类对象。type函数的参数name为类名； bases是一个元组，值为继承的父类；dict是一个字典，值为类的属性字典。更加具体的type用法这里不再详细解释。这里需要区分下继承和实例化，继承是可以使用父类的资源，如python历史上的新式类继承自object类（3.X以后版本默认为新式类，2.5以后版本需要显示继承obejct），而实例化则是根据类对象的定义，生成一个新的实例。\n",
    "- 我看过一个非常形象的解释python元类的说法，这里借鉴一下。中国古语有“道生一，一生二，二生三，三生万物”，在Python中type就是道，也是整个python体系的根本，一就是元类从type而来（也可以理解为就是type类，而其他所有的内置类都是type实例化产生的），由它产生出各种类对象（二），类对象实例化生成各种实例（三），然后三生万物。"
   ]
  },
  {
   "cell_type": "code",
   "execution_count": 18,
   "metadata": {},
   "outputs": [
    {
     "name": "stdout",
     "output_type": "stream",
     "text": [
      "<class 'type'> <class 'type'>\n",
      "<class 'int'> <class 'type'>\n"
     ]
    }
   ],
   "source": [
    "class A:pass\n",
    "n = 100\n",
    "print(A.__class__, A.__class__.__class__)\n",
    "print(n.__class__, n.__class__.__class__)"
   ]
  },
  {
   "cell_type": "markdown",
   "metadata": {},
   "source": [
    "一个实例对象的__class__属性指向实例化它的类对象，而type的类对象还是type。无论是我们创建的类对象，还是python内置的数据类型（也是类对象），他们都从type而来。\n",
    "以单实例类为例子，我们一起来看看，这个type或者说元类是如何工作的。\n",
    "### 使用类的\\__new__方法实现单例模式："
   ]
  },
  {
   "cell_type": "code",
   "execution_count": 27,
   "metadata": {},
   "outputs": [
    {
     "name": "stdout",
     "output_type": "stream",
     "text": [
      "59332112 59332112 bob bob\n"
     ]
    },
    {
     "data": {
      "text/plain": [
       "True"
      ]
     },
     "execution_count": 27,
     "metadata": {},
     "output_type": "execute_result"
    }
   ],
   "source": [
    "class A:\n",
    "    def __new__(cls, *args, **kwargs):\n",
    "        if not hasattr(cls, '_A__instance'):\n",
    "            cls.__instance = super(A, cls).__new__(cls)\n",
    "        return cls.__instance\n",
    "    def __init__(self, name=\"None\"):\n",
    "        if not hasattr(self, 'name'):\n",
    "            self.name = name\n",
    "a = A('bob')\n",
    "b = A(\"alice\")\n",
    "print(id(a), id(b), a.name , b.name)\n",
    "hasattr(A,'_A__instance')"
   ]
  },
  {
   "cell_type": "markdown",
   "metadata": {},
   "source": [
    "### 使用元类实现单例模式："
   ]
  },
  {
   "cell_type": "code",
   "execution_count": null,
   "metadata": {},
   "outputs": [],
   "source": []
  },
  {
   "cell_type": "markdown",
   "metadata": {},
   "source": [
    "## 使用元类，要注意几个地方：\n",
    "- 自定义的元类需要继承自type类\n",
    "- 自定义的元类里的\\__new__函数需要返回一个类对象\n",
    "- 需要使用metaclass参数指明类的元类是谁，这里有一个查找顺序：\n",
    " 1. 查找自身参数，有无metaclass \n",
    " 2. 查找继承mro链条，是否有无metaclass\n",
    " 3. 查找模块，是否指定全局\\__metaclass__参数\n",
    " 4. 上述方法均未查询到，则使用内置的type元类\n",
    "- 使用元类的自定义类，需要显式指定metaclass参数"
   ]
  },
  {
   "cell_type": "code",
   "execution_count": null,
   "metadata": {},
   "outputs": [],
   "source": [
    "\n",
    "class MetaA(type):\n",
    "    def __new__(cls, *args, **kwargs):\n",
    "        print(cls, args, kwargs, super().__new__(cls, *args, **kwargs))\n",
    "        return super().__new__(cls, *args, **kwargs)\n",
    "    def __init__(self, *args, **kwargs):\n",
    "        print(self, args, kwargs)\n",
    "        if not hasattr(self, '_instance'):\n",
    "            self._instance = None\n",
    "        super().__init__(self)\n",
    "\n",
    "    def __call__(self, *args, **kwargs):\n",
    "        print(self, args, kwargs, 'here')\n",
    "        if self._instance is None:\n",
    "            self._instance = self.__new__(self)\n",
    "        self._instance.__init__(*args, **kwargs)\n",
    "        return self._instance\n",
    "\n",
    "class A(metaclass=MetaA):\n",
    "    #\n",
    "    def __init__(self, name):\n",
    "        self.name = name\n",
    "    pass\n",
    "#\n",
    "a = A('aa')\n",
    "b = A('bb')\n",
    "b.name = 'zzz'\n",
    "print(id(a), id(b), a.name , b.name, id(a._instance))\n"
   ]
  }
 ],
 "metadata": {
  "kernelspec": {
   "display_name": "Python 3",
   "language": "python",
   "name": "python3"
  },
  "language_info": {
   "codemirror_mode": {
    "name": "ipython",
    "version": 3
   },
   "file_extension": ".py",
   "mimetype": "text/x-python",
   "name": "python",
   "nbconvert_exporter": "python",
   "pygments_lexer": "ipython3",
   "version": "3.7.0"
  }
 },
 "nbformat": 4,
 "nbformat_minor": 2
}

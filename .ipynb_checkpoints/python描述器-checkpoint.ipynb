{
 "cells": [
  {
   "cell_type": "markdown",
   "metadata": {},
   "source": [
    "# Python描述器\n",
    "\n",
    "在python中有一类黑魔法称为描述器，其本质上是改变实例对象的**属性访问顺序**。在开始之前，需要了解一个实例对象是如何访问属性和方法的：\n",
    "### 类属性（方法）的存储及访问顺序\n",
    "1. 实例对象有一个\\__dict__字典，里边保存了所有的实例属性。\n",
    "2. 类对象也有一个\\__dict__字典，里边保存了类属性和所有的方法（包括类方法，实例方法，静态方法）\n",
    "3. 当实例对象访问属性（或方法）时会查找自身的dict字典，如果不存在则查找类的dict字典，如果不存在则根据MRO继承链条继续查找直至返回AttributeError"
   ]
  },
  {
   "cell_type": "code",
   "execution_count": 9,
   "metadata": {},
   "outputs": [
    {
     "name": "stdout",
     "output_type": "stream",
     "text": [
      "{'name': 'bob'}\n",
      "{'__module__': '__main__', 'b': 1, '__init__': <function B.__init__ at 0x0351CED0>, 'ask': <function B.ask at 0x0351C5D0>, '__doc__': None}\n",
      "{'__module__': '__main__', 'a': 0, 'run': <function A.run at 0x0351CE40>, '__dict__': <attribute '__dict__' of 'A' objects>, '__weakref__': <attribute '__weakref__' of 'A' objects>, '__doc__': None}\n",
      "ask\n",
      "run\n",
      "1 0\n"
     ]
    }
   ],
   "source": [
    "class A:\n",
    "    a = 0\n",
    "    def run(self):\n",
    "        print('run')\n",
    "\n",
    "class B(A):\n",
    "    b = 1\n",
    "    def __init__(self, name):\n",
    "        self.name = name\n",
    "    def ask(self):\n",
    "        print(\"ask\")\n",
    "    \n",
    "b = B('bob')\n",
    "print(vars(b))\n",
    "print(vars(B))\n",
    "print(vars(A))\n",
    "b.ask()\n",
    "b.run()\n",
    "print(b.b, b.a)\n"
   ]
  },
  {
   "cell_type": "markdown",
   "metadata": {},
   "source": [
    "实例对象b中只有一个name属性，而实例方法ask存储在类的dict字典中。同时它也能访问继承自类A的run方法，还能访问属性a和b。**对于继承所获得的属性，只能读取而无法修改， 而且需要注意类方法的覆写（或者叫做重载）。即子类的方法如果与父类方法重名，调用时只会调用子类的方法。**\n",
    "***\n",
    "python中有一种特殊的类，实现了\\__get__, \\__set__, \\__delete__方法，叫做描述器。它的主要作用是拦截实例对象对属性的访问顺序："
   ]
  },
  {
   "cell_type": "code",
   "execution_count": 22,
   "metadata": {},
   "outputs": [
    {
     "name": "stdout",
     "output_type": "stream",
     "text": [
      "set func <__main__.Test object at 0x037D0790> <__main__.A object at 0x037D06F0> t\n",
      "get func <__main__.Test object at 0x037D0790> <__main__.A object at 0x037D06F0> <class '__main__.A'>\n",
      "t ********** tt\n",
      "{'tt': 'tt'}\n"
     ]
    }
   ],
   "source": [
    "class Test():\n",
    "    def __init__(self, name):\n",
    "        self.name = name\n",
    "    def __get__(self, instance, owner):\n",
    "        print('get func', self, instance, owner)\n",
    "        return self.name\n",
    "    def __set__(self, instance, value):\n",
    "        print('set func', self, instance, value)\n",
    "        self.name = value\n",
    "    def __delete__(self, instance):\n",
    "        del self.name\n",
    "        \n",
    "class Test2():\n",
    "    def __init__(self, name):\n",
    "        self.name = name\n",
    "    def __get__(self, instance, owner):\n",
    "        print('get func', self, instance, owner)\n",
    "        return self.name\n",
    "class A:\n",
    "    t = Test(\"Bob\")\n",
    "    tt = Test2(\"Alice\")\n",
    "    def __init__(self):\n",
    "        self.t = 't'\n",
    "        self.tt = 'tt'\n",
    "\n",
    "    \n",
    "\n",
    "a = A()\n",
    "print(a.t,\"*\"*10,  a.tt)\n",
    "print(vars(a))\n"
   ]
  },
  {
   "cell_type": "markdown",
   "metadata": {},
   "source": [
    "从上可以看到，我们在实例化类A时的init函数中使用了赋值语句， 在a的属性字典中没有t属性，尽管在代码中t属性是类属性，但是在进行self.t赋值时仍然调用了描述器的get和set方法。这是因为实现了set的描述器称为资料描述器，它的优先级高于实例的属性字典， 而只实现了get方法的描述器称为非资料描述器，它的优先级低于属性字典。总的来说对于实例属性的查找遵循以下顺序：\n",
    "\n",
    "**资料描述器 》 dict字典 》 非资料描述器**\n",
    "\n",
    "在访问实例a的tt属性时并没有调用描述器的get方法，而是直接访问了实例的属性字典， 从实例a的属性字典含有tt项可以看出， 而且访问a的tt属性时并没有调用描述器的get方法。\n",
    "如上使用描述器，会导致**所有实例共享类属性的值**，所以在一些情况下需要增添一些实例属性来区分不同实例对自身属性的访问。"
   ]
  },
  {
   "cell_type": "code",
   "execution_count": 35,
   "metadata": {},
   "outputs": [
    {
     "name": "stdout",
     "output_type": "stream",
     "text": [
      "enter set\n",
      "enter set\n",
      "enter get\n",
      "enter get\n",
      "Bob Alice\n",
      "{'name': 'Bob'}\n"
     ]
    }
   ],
   "source": [
    "class Name:\n",
    "    def __get__(self, instance, owner):\n",
    "        print(\"enter get\")\n",
    "        return instance.__dict__['name']\n",
    "    def __set__(self, instance, value):\n",
    "        print(\"enter set\")\n",
    "        instance.__dict__['name'] = value\n",
    "\n",
    "class A:\n",
    "    name = Name()\n",
    "    def __init__(self, name):\n",
    "        self.name = name\n",
    "\n",
    "a = A('Bob')\n",
    "b = A(\"Alice\")\n",
    "print(a.name , b.name)\n",
    "print(a.__dict__)\n",
    "            "
   ]
  },
  {
   "cell_type": "markdown",
   "metadata": {},
   "source": [
    "即使实例对象属性字典含有name， 在访问时仍然要经过描述器的get方法。 \n",
    "\n",
    "**注意在描述器中访问实例属性时，需要直接操作实例的属性字典，而不能直接使用.来访问，否则会产生循环调用。**\n",
    "\n",
    "python中描述器通常会和装饰器一起使用， 比如为方法编写一个缓存。\n",
    "\n",
    "### 使用描述器编写缓存\n"
   ]
  },
  {
   "cell_type": "code",
   "execution_count": 51,
   "metadata": {},
   "outputs": [
    {
     "name": "stdout",
     "output_type": "stream",
     "text": [
      "first call\n",
      "read result\n",
      "read result\n",
      "read result\n",
      "read result\n"
     ]
    }
   ],
   "source": [
    "class Desc:\n",
    "    def __init__(self, func):\n",
    "        self.func = func\n",
    "\n",
    "    def __get__(self, instance, owner):\n",
    "        if 'result' not in instance.__dict__.keys():\n",
    "            instance.__dict__['result'] = self.func(instance)\n",
    "        return instance.__dict__['result']\n",
    "\n",
    "def deco(func):\n",
    "    return Desc(func)\n",
    "\n",
    "\n",
    "class App:\n",
    "    @deco\n",
    "    def read(self):\n",
    "        print(\"first call\")\n",
    "        result = 'read result'\n",
    "        return result\n",
    "myapp = App()\n",
    "#print(myapp.__dict__)\n",
    "print(myapp.read)\n",
    "#print(myapp.__dict__)\n",
    "print(myapp.read)\n",
    "print(myapp.read)\n",
    "print(myapp.read)\n",
    "\n"
   ]
  }
 ],
 "metadata": {
  "kernelspec": {
   "display_name": "Python 3",
   "language": "python",
   "name": "python3"
  },
  "language_info": {
   "codemirror_mode": {
    "name": "ipython",
    "version": 3
   },
   "file_extension": ".py",
   "mimetype": "text/x-python",
   "name": "python",
   "nbconvert_exporter": "python",
   "pygments_lexer": "ipython3",
   "version": "3.7.0"
  }
 },
 "nbformat": 4,
 "nbformat_minor": 2
}

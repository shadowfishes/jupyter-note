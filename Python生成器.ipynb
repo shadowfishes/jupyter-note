{
 "cells": [
  {
   "cell_type": "markdown",
   "metadata": {},
   "source": [
    "# Python生成器\n",
    "python中的生成器本质上是一种特殊的迭代器，关于迭代器可以自行搜索（主要是实现了\\__iter__和\\__next__方法）。\n",
    "### Python中的惰性求值\n",
    "想弄清楚生成器必须要理解python中的惰性求值特性。惰性求值是指，在程序运行中并不会一次计算所有结果，而是根据需要计算部分结果。很多语言都有惰性求值的特性，在python比如："
   ]
  },
  {
   "cell_type": "code",
   "execution_count": 4,
   "metadata": {},
   "outputs": [
    {
     "name": "stdout",
     "output_type": "stream",
     "text": [
      "None abcd\n",
      "0 1\n"
     ]
    }
   ],
   "source": [
    "result = None and \"abcd\"\n",
    "result1 = None or \"abcd\"\n",
    "print(result, result1)\n",
    "tmp = iter(range(10))\n",
    "print(next(tmp), next(tmp))"
   ]
  },
  {
   "cell_type": "markdown",
   "metadata": {},
   "source": [
    "惰性求值在逻辑判断中尤为突出。上述关于tmp的代码叶可以改写为：  \n",
    "```for i in range(10)\n",
    "    print(i)\n",
    "```  \n",
    "关键字for代替我们做了iter和next的工作，并且最后会自动捕捉StopIteration异常。  \n",
    "迭代器在使用结果的时候才会进行一次计算获得一个返回值，这一特性会节省内存等资源的开销。\n",
    "\n",
    "### 生成器函数和生成器\n",
    "生成器函数是一类特殊的函数，它使用yeild关键字，并且返回一个生成器。以经典的斐波那契数列为例："
   ]
  },
  {
   "cell_type": "code",
   "execution_count": 16,
   "metadata": {},
   "outputs": [
    {
     "name": "stdout",
     "output_type": "stream",
     "text": [
      "**********\n",
      "func test\n",
      "1\n",
      "2\n",
      "3\n",
      "5\n",
      "8\n"
     ]
    }
   ],
   "source": [
    "def test(num):\n",
    "    print(\"func test\")\n",
    "    a = 0\n",
    "    b = 1\n",
    "    label = 0\n",
    "    while label < num:\n",
    "        yield a+b\n",
    "        a, b = b, a+b\n",
    "        label += 1\n",
    "gen = test(5)\n",
    "print(\"*\"*10)\n",
    "for t in gen:\n",
    "    print(t)"
   ]
  },
  {
   "cell_type": "markdown",
   "metadata": {},
   "source": [
    "这里在执行gen=test(5)时，函数并没有执行（没有输出）。而是在执行for循环的时候才有输出，这是因为赋值语句仅仅是返回了一个生成器而没有启动它，必须使用next（generator）才能启动（后续会讲到使用send方法也可以启动一个生成器），让函数体执行到yield语句并返回关键字yield之后的内容，然后等待下一次的next调用（每次调用next方法会将函数停止在yeild语句，会保存函数的执行状态（即参数的值），下一次会从yeild语句继续执行，直到碰到yield语句或生成器执行完毕引发StopIteration异常）。这里使用for循环的目的就是自动的调用next方法和捕捉StopIteration异常。在python3之前，生成器并不支持return关键字，在py3之后return关键字会引发StopIteration异常。"
   ]
  },
  {
   "cell_type": "code",
   "execution_count": 19,
   "metadata": {},
   "outputs": [
    {
     "name": "stdout",
     "output_type": "stream",
     "text": [
      "func test\n",
      "1\n",
      "2\n",
      "3\n",
      "5\n"
     ]
    },
    {
     "ename": "StopIteration",
     "evalue": "End",
     "output_type": "error",
     "traceback": [
      "\u001b[1;31m---------------------------------------------------------------------------\u001b[0m",
      "\u001b[1;31mStopIteration\u001b[0m                             Traceback (most recent call last)",
      "\u001b[1;32m<ipython-input-19-dd8600de891a>\u001b[0m in \u001b[0;36m<module>\u001b[1;34m()\u001b[0m\n\u001b[0;32m     16\u001b[0m \u001b[0mprint\u001b[0m\u001b[1;33m(\u001b[0m\u001b[0mnext\u001b[0m\u001b[1;33m(\u001b[0m\u001b[0mgen\u001b[0m\u001b[1;33m)\u001b[0m\u001b[1;33m)\u001b[0m\u001b[1;33m\u001b[0m\u001b[0m\n\u001b[0;32m     17\u001b[0m \u001b[0mprint\u001b[0m\u001b[1;33m(\u001b[0m\u001b[0mnext\u001b[0m\u001b[1;33m(\u001b[0m\u001b[0mgen\u001b[0m\u001b[1;33m)\u001b[0m\u001b[1;33m)\u001b[0m\u001b[1;33m\u001b[0m\u001b[0m\n\u001b[1;32m---> 18\u001b[1;33m \u001b[0mprint\u001b[0m\u001b[1;33m(\u001b[0m\u001b[0mnext\u001b[0m\u001b[1;33m(\u001b[0m\u001b[0mgen\u001b[0m\u001b[1;33m)\u001b[0m\u001b[1;33m)\u001b[0m\u001b[1;33m\u001b[0m\u001b[0m\n\u001b[0m",
      "\u001b[1;31mStopIteration\u001b[0m: End"
     ]
    }
   ],
   "source": [
    "def test():\n",
    "    print(\"func test\")\n",
    "    a = 0\n",
    "    b = 1\n",
    "    label = 0\n",
    "    while 1:\n",
    "        if label > 3:\n",
    "            return 'End'\n",
    "        yield a+b\n",
    "        a, b = b, a+b\n",
    "        label += 1\n",
    "\n",
    "gen = test()\n",
    "print(next(gen))\n",
    "print(next(gen))\n",
    "print(next(gen))\n",
    "print(next(gen))\n",
    "print(next(gen))"
   ]
  },
  {
   "cell_type": "markdown",
   "metadata": {},
   "source": [
    "可以看到迭代4次之后生成器终止，这里要注意的是return语句会直接引发StopIteration异常，但是return的值并不会被返回，上例里”End“并没有被输出。而是把return返回值当做异常的信息。如果我们想获得这个返回值怎么做？答案是可以使用异常处理。"
   ]
  },
  {
   "cell_type": "code",
   "execution_count": 30,
   "metadata": {},
   "outputs": [
    {
     "name": "stdout",
     "output_type": "stream",
     "text": [
      "func test\n",
      "1\n",
      "2\n",
      "End\n"
     ]
    }
   ],
   "source": [
    "def test():\n",
    "    print(\"func test\")\n",
    "    a = 0\n",
    "    b = 1\n",
    "    label = 0\n",
    "    while 1:\n",
    "        if label > 1:\n",
    "            return 'End'\n",
    "        yield a+b\n",
    "        a, b = b, a+b\n",
    "        label += 1\n",
    "gen = test()\n",
    "try:\n",
    "    print(next(gen))\n",
    "    print(next(gen))\n",
    "    print(next(gen))\n",
    "except StopIteration as err:\n",
    "    print(err)"
   ]
  },
  {
   "cell_type": "markdown",
   "metadata": {},
   "source": [
    "生成器可以无限迭代下去，但是只能迭代一次。如果想再次使用，可以生成一个新的生成器，或者使用send方法来传递参数给生成器来重置生成器。"
   ]
  },
  {
   "cell_type": "code",
   "execution_count": 51,
   "metadata": {},
   "outputs": [
    {
     "name": "stdout",
     "output_type": "stream",
     "text": [
      "func test\n",
      "1\n",
      "2\n",
      "3\n",
      "func test\n",
      "1\n",
      "2\n",
      "3\n",
      "func test\n",
      "1\n",
      "2\n",
      "3\n",
      "5\n",
      "8\n"
     ]
    },
    {
     "ename": "StopIteration",
     "evalue": "End",
     "output_type": "error",
     "traceback": [
      "\u001b[1;31m---------------------------------------------------------------------------\u001b[0m",
      "\u001b[1;31mStopIteration\u001b[0m                             Traceback (most recent call last)",
      "\u001b[1;32m<ipython-input-51-472e316d77a4>\u001b[0m in \u001b[0;36m<module>\u001b[1;34m()\u001b[0m\n\u001b[0;32m     26\u001b[0m \u001b[0mprint\u001b[0m\u001b[1;33m(\u001b[0m\u001b[0mgen\u001b[0m\u001b[1;33m.\u001b[0m\u001b[0msend\u001b[0m\u001b[1;33m(\u001b[0m\u001b[1;32mTrue\u001b[0m\u001b[1;33m)\u001b[0m\u001b[1;33m)\u001b[0m\u001b[1;33m\u001b[0m\u001b[0m\n\u001b[0;32m     27\u001b[0m \u001b[0mprint\u001b[0m\u001b[1;33m(\u001b[0m\u001b[0mgen\u001b[0m\u001b[1;33m.\u001b[0m\u001b[0msend\u001b[0m\u001b[1;33m(\u001b[0m\u001b[1;32mTrue\u001b[0m\u001b[1;33m)\u001b[0m\u001b[1;33m)\u001b[0m\u001b[1;33m\u001b[0m\u001b[0m\n\u001b[1;32m---> 28\u001b[1;33m \u001b[0mprint\u001b[0m\u001b[1;33m(\u001b[0m\u001b[0mgen\u001b[0m\u001b[1;33m.\u001b[0m\u001b[0msend\u001b[0m\u001b[1;33m(\u001b[0m\u001b[1;36m2\u001b[0m\u001b[1;33m)\u001b[0m\u001b[1;33m)\u001b[0m\u001b[1;33m\u001b[0m\u001b[0m\n\u001b[0m",
      "\u001b[1;31mStopIteration\u001b[0m: End"
     ]
    }
   ],
   "source": [
    "def test():\n",
    "    print(\"func test\")\n",
    "    a = 0\n",
    "    b = 1\n",
    "    label = 0\n",
    "    while 1:\n",
    "        tmp = yield a+b\n",
    "        label = tmp or label\n",
    "        if label > 1:\n",
    "            return 'End'\n",
    "        a, b = b, a+b\n",
    "        label += 1\n",
    "gen = test()\n",
    "for i in gen:\n",
    "    print(i)\n",
    "#next(gen) #这里会引发StopIteration异常，如果想再次使用可以再次获取一个生成器。\n",
    "gen = test()\n",
    "for i in gen:\n",
    "    print(i)\n",
    "#或者我们可以使用send方法来重置生成器。由于for循环会直接将生成器执行结束，所以需要新生成一个生成器来进行测试。\n",
    "gen = test()\n",
    "print(next(gen))\n",
    "print(next(gen))\n",
    "#print(next(gen)) #这里不能再继续执行next否则会引发迭代结束异常。\n",
    "print(gen.send(True))\n",
    "print(gen.send(True))\n",
    "print(gen.send(True))\n",
    "print(gen.send(2))\n",
    "\n"
   ]
  },
  {
   "cell_type": "markdown",
   "metadata": {},
   "source": [
    "gen.send方法会将值传递进生成器，并作为yeild语句的返回值赋值给tmp。next()方法相当于gen.send(None)，但是需要注意一点，如果使用send方法启动生成器(之前的例子都是使用next方法启动)，那么参数只能是None，后续的send方法才可以正常传递参数进入生成器。除了send方法，生成器还有throw和close方法，分别向生成器抛入一个异常和关闭生成器。close方法在生成器内部引发一个GeneratorEixt异常。"
   ]
  },
  {
   "cell_type": "code",
   "execution_count": 114,
   "metadata": {},
   "outputs": [
    {
     "name": "stdout",
     "output_type": "stream",
     "text": [
      "1\n",
      "除数不能为0\n",
      "1\n",
      "1\n",
      "关闭生成器\n"
     ]
    }
   ],
   "source": [
    "def Test():\n",
    "    while 1:\n",
    "        try:\n",
    "            yield 1\n",
    "        except ValueError:\n",
    "            print(\"除数不能为0\")\n",
    "        except GeneratorExit:\n",
    "            print(\"关闭生成器\")\n",
    "            break\n",
    "            #raise StopIteration\n",
    "\n",
    "gen = Test()\n",
    "print(next(gen))\n",
    "print(gen.throw(ValueError))\n",
    "print(next(gen))\n",
    "gen.close()\n",
    "#next(gen)"
   ]
  },
  {
   "cell_type": "markdown",
   "metadata": {},
   "source": [
    "当使用close方法时，生成器会引发GeneratorExit异常，即使没有显示的捕获此异常，也不会抛向主程序。如果主程序退出，此时生成器没有终止也会抛出GeneratorExit异常。 当生成器启动，又引发GeneratorExit异常之后，生成器继续执行直到自身结束，如果中间再次碰到yield语句则会引发RuntimeError。如果close之后再次使用next方法，则会引发StopIteration异常。Exception,RuntimeError和GeneratorExit继承自BaseException，而StopIteration继承自Exception。GeneratorExit异常主要是帮助程序员解决一些资源收尾工作。\n",
    "### yield from关键字\n",
    "当生成器中含有return语句时，我们想获得这个返回值只能间接使用异常处理来获取，除此之外还可以使用关键字yeild from。py3.3以后版本新增yield from关键字，本意是简化生成器的嵌套使用。yield from后需要跟一个迭代器对象。"
   ]
  },
  {
   "cell_type": "code",
   "execution_count": 125,
   "metadata": {},
   "outputs": [
    {
     "name": "stdout",
     "output_type": "stream",
     "text": [
      "1\n",
      "2\n",
      "重置label\n",
      "3\n",
      "5\n",
      "8\n",
      "end fab\n",
      "end fab\n"
     ]
    }
   ],
   "source": [
    "def test():\n",
    "    result = yield from fab()\n",
    "    while 1:\n",
    "        yield result\n",
    "\n",
    "def fab():\n",
    "    a,b = 0,1\n",
    "    label = 0\n",
    "    while 1:\n",
    "        if label > 3:\n",
    "            return \"end fab\"\n",
    "        tmp = yield a+b\n",
    "        if tmp:\n",
    "            print(\"重置label\")\n",
    "            label = 0\n",
    "        a, b = b, a+b\n",
    "        label += 1\n",
    "gen = test()\n",
    "print(next(gen))\n",
    "print(next(gen))\n",
    "print(gen.send(1))\n",
    "print(next(gen))\n",
    "print(next(gen))\n",
    "print(next(gen))\n",
    "print(next(gen))"
   ]
  },
  {
   "cell_type": "markdown",
   "metadata": {},
   "source": [
    "yield from相当于在调用者和子生成器建立了一个桥梁，此时中间生成器祖塞，调用者直接向子生成器send参数、获得返回值或者throw异常，而不需要经过中间生成器。yield from会自动捕获StopIteration异常，并且将异常的值当做yeild from表达式的值进行返回。"
   ]
  }
 ],
 "metadata": {
  "kernelspec": {
   "display_name": "Python 3",
   "language": "python",
   "name": "python3"
  },
  "language_info": {
   "codemirror_mode": {
    "name": "ipython",
    "version": 3
   },
   "file_extension": ".py",
   "mimetype": "text/x-python",
   "name": "python",
   "nbconvert_exporter": "python",
   "pygments_lexer": "ipython3",
   "version": "3.7.0"
  }
 },
 "nbformat": 4,
 "nbformat_minor": 2
}
